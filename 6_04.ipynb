{
 "metadata": {
  "language_info": {
   "codemirror_mode": {
    "name": "ipython",
    "version": 3
   },
   "file_extension": ".py",
   "mimetype": "text/x-python",
   "name": "python",
   "nbconvert_exporter": "python",
   "pygments_lexer": "ipython3",
   "version": "3.8.2-final"
  },
  "orig_nbformat": 2,
  "kernelspec": {
   "name": "python_defaultSpec_1598058416492",
   "display_name": "Python 3.8.2 32-bit"
  }
 },
 "nbformat": 4,
 "nbformat_minor": 2,
 "cells": [
  {
   "cell_type": "code",
   "execution_count": 1,
   "metadata": {
    "tags": []
   },
   "outputs": [
    {
     "output_type": "stream",
     "name": "stdout",
     "text": "0 1 2"
    }
   ],
   "source": [
    "for i in range(3):\n",
    "    print(i, end=\" \")"
   ]
  },
  {
   "cell_type": "code",
   "execution_count": 2,
   "metadata": {
    "tags": []
   },
   "outputs": [
    {
     "output_type": "stream",
     "name": "stdout",
     "text": "1 2 3"
    }
   ],
   "source": [
    "for j in[1, 2, 3]:\n",
    "    print(j, end=\" \")"
   ]
  },
  {
   "cell_type": "code",
   "execution_count": 3,
   "metadata": {},
   "outputs": [
    {
     "output_type": "execute_result",
     "data": {
      "text/plain": "0"
     },
     "metadata": {},
     "execution_count": 3
    }
   ],
   "source": [
    "#シーケン氏からイテレータオブジェクトを生成する\n",
    "itr = iter([0, 1, 2])\n",
    "\n",
    "#次の値を参照する\n",
    "next(itr)"
   ]
  },
  {
   "cell_type": "code",
   "execution_count": 4,
   "metadata": {},
   "outputs": [
    {
     "output_type": "execute_result",
     "data": {
      "text/plain": "1"
     },
     "metadata": {},
     "execution_count": 4
    }
   ],
   "source": [
    "#次の値を参照する\n",
    "next(itr)"
   ]
  },
  {
   "cell_type": "code",
   "execution_count": 5,
   "metadata": {},
   "outputs": [
    {
     "output_type": "execute_result",
     "data": {
      "text/plain": "2"
     },
     "metadata": {},
     "execution_count": 5
    }
   ],
   "source": [
    "#次の値を参照する\n",
    "next(itr)"
   ]
  },
  {
   "cell_type": "code",
   "execution_count": 6,
   "metadata": {},
   "outputs": [
    {
     "output_type": "error",
     "ename": "StopIteration",
     "evalue": "",
     "traceback": [
      "\u001b[1;31m---------------------------------------------------------------------------\u001b[0m",
      "\u001b[1;31mStopIteration\u001b[0m                             Traceback (most recent call last)",
      "\u001b[1;32m<ipython-input-6-59f66b6926f9>\u001b[0m in \u001b[0;36m<module>\u001b[1;34m\u001b[0m\n\u001b[0;32m      1\u001b[0m \u001b[1;31m#次の値を参照する\u001b[0m\u001b[1;33m\u001b[0m\u001b[1;33m\u001b[0m\u001b[1;33m\u001b[0m\u001b[0m\n\u001b[1;32m----> 2\u001b[1;33m \u001b[0mnext\u001b[0m\u001b[1;33m(\u001b[0m\u001b[0mitr\u001b[0m\u001b[1;33m)\u001b[0m\u001b[1;33m\u001b[0m\u001b[1;33m\u001b[0m\u001b[0m\n\u001b[0m",
      "\u001b[1;31mStopIteration\u001b[0m: "
     ]
    }
   ],
   "source": [
    "#次の値を参照する\n",
    "next(itr)"
   ]
  },
  {
   "cell_type": "code",
   "execution_count": 9,
   "metadata": {
    "tags": []
   },
   "outputs": [
    {
     "output_type": "stream",
     "name": "stdout",
     "text": "0\n1\n2\n次はありません\n"
    }
   ],
   "source": [
    "itr = iter(range(3))\n",
    "d = \"次はありません\"\n",
    "print(next(itr, d))\n",
    "print(next(itr, d))\n",
    "print(next(itr, d))\n",
    "print(next(itr, d))"
   ]
  },
  {
   "cell_type": "code",
   "execution_count": 14,
   "metadata": {
    "tags": []
   },
   "outputs": [
    {
     "output_type": "stream",
     "name": "stdout",
     "text": "s p a m"
    }
   ],
   "source": [
    "class MyIterator:\n",
    "    def __init__(self, data):\n",
    "        self.data = data\n",
    "        self.index = 0\n",
    "\n",
    "    def __iter__(self):\n",
    "        #MyIterator が __next() を実装しているので self をいてれーた　として返す\n",
    "        return self\n",
    "    \n",
    "    def __next__(self):\n",
    "        if self.index == len(self.data):\n",
    "            raise StopIteration()\n",
    "        value = self.data[self.index]\n",
    "        self.index = self.index + 1\n",
    "        return value\n",
    " #シーケンス一例として文字列を返す\n",
    "itr = MyIterator(\"spam\")\n",
    "for char in itr:\n",
    "    print(char, end=\" \")"
   ]
  },
  {
   "cell_type": "code",
   "execution_count": 19,
   "metadata": {
    "tags": []
   },
   "outputs": [
    {
     "output_type": "stream",
     "name": "stdout",
     "text": "m a p s"
    }
   ],
   "source": [
    "class Reverse:\n",
    "    '''シーケンスを逆順にループするイテレータ'''\n",
    "\n",
    "    def __init__(self, data):\n",
    "        self.data = data\n",
    "        self.index = len(data)\n",
    "\n",
    "    def __iter__(self):\n",
    "        return self\n",
    "\n",
    "    def __next__(self):\n",
    "        if self.index == 0:\n",
    "            raise StopIteration\n",
    "        self.index = self.index - 1\n",
    "        return self.data[self.index]\n",
    "\n",
    "#シーケンスの一例として文字列を返す\n",
    "rev = Reverse('spam')\n",
    "for char in rev:\n",
    "    print(char, end=\" \")"
   ]
  },
  {
   "cell_type": "code",
   "execution_count": 20,
   "metadata": {
    "tags": []
   },
   "outputs": [
    {
     "output_type": "stream",
     "name": "stdout",
     "text": "f l o g"
    }
   ],
   "source": [
    "def reverse(data):\n",
    "    '''引数に受け取ったシーケンスを逆向きに返す'''\n",
    "    ret = []\n",
    "    for index in range(len(data)-1, -1, -1):\n",
    "        ret.append(data[index])\n",
    "    return ret\n",
    "\n",
    "#リストをforループのinに添える(forループで反復子が作られる)\n",
    "for char in reverse('golf'):\n",
    "    print(char, end=\" \")"
   ]
  },
  {
   "cell_type": "code",
   "execution_count": 21,
   "metadata": {
    "tags": []
   },
   "outputs": [
    {
     "output_type": "stream",
     "name": "stdout",
     "text": "f l o g"
    }
   ],
   "source": [
    "def reverse(data):\n",
    "    for index in range(len(data) - 1, -1, -1):\n",
    "        yield data[index]\n",
    "\n",
    "#ジェネレーターをforループのinに添える\n",
    "for char in reverse('golf'):\n",
    "    print(char, end=\" \")"
   ]
  },
  {
   "cell_type": "code",
   "execution_count": 22,
   "metadata": {},
   "outputs": [
    {
     "output_type": "execute_result",
     "data": {
      "text/plain": "['d', 'l', 'o', 'g']"
     },
     "metadata": {},
     "execution_count": 22
    }
   ],
   "source": [
    "data = 'gold'\n",
    "I = [data[i] for i in range(len(data) -1, -1 ,-1)]\n",
    "I"
   ]
  },
  {
   "cell_type": "code",
   "execution_count": 23,
   "metadata": {},
   "outputs": [
    {
     "output_type": "execute_result",
     "data": {
      "text/plain": "<generator object <genexpr> at 0x071D9A00>"
     },
     "metadata": {},
     "execution_count": 23
    }
   ],
   "source": [
    "g = (data[i] for i in range(len(data) -1, -1, -1))\n",
    "g"
   ]
  },
  {
   "cell_type": "code",
   "execution_count": 24,
   "metadata": {},
   "outputs": [
    {
     "output_type": "execute_result",
     "data": {
      "text/plain": "['d', 'l', 'o', 'g']"
     },
     "metadata": {},
     "execution_count": 24
    }
   ],
   "source": [
    "list(g)"
   ]
  },
  {
   "cell_type": "code",
   "execution_count": 36,
   "metadata": {},
   "outputs": [],
   "source": [
    "import random\n",
    "#何回実行しても同じ結果になるように乱数の値(seed)を固定する\n",
    "random.seed(1)\n",
    "msgs = [\"Hi\", \"Hello\", \"Good morning\", \"Good night\", \"See you later\",\n",
    "\"How are you\", \"Have a good day\"]\n",
    "with open(\"some.txt\",\"w\")as f:\n",
    "    for i in range(100000):\n",
    "        f.write(\"{},{}\\n\".format(i, random.choice(msgs)))"
   ]
  },
  {
   "cell_type": "code",
   "execution_count": 41,
   "metadata": {
    "tags": []
   },
   "outputs": [
    {
     "output_type": "stream",
     "name": "stdout",
     "text": "0, Hello\n1, See you later\n2, Have a good day\nWall time: 36.2 ms\n"
    }
   ],
   "source": [
    "%%time\n",
    "f = open('some.txt')\n",
    "body = f.read()\n",
    "lines = body.split('\\n')\n",
    "print('\\n'.join(lines[:3]))"
   ]
  },
  {
   "cell_type": "code",
   "execution_count": 42,
   "metadata": {
    "tags": []
   },
   "outputs": [
    {
     "output_type": "stream",
     "name": "stdout",
     "text": "0, Hello\n1, See you later\n"
    }
   ],
   "source": [
    "f = open('some.txt')\n",
    "print(next(f), end=\"\")\n",
    "print(next(f), end=\"\")\n",
    "f.close()"
   ]
  },
  {
   "cell_type": "code",
   "execution_count": 43,
   "metadata": {
    "tags": []
   },
   "outputs": [
    {
     "output_type": "stream",
     "name": "stdout",
     "text": "0, Hello\n1, See you later\n2, Have a good day\n"
    }
   ],
   "source": [
    "f = open('some.txt')\n",
    "c = 0\n",
    "for I in f:\n",
    "    print(I, end='')\n",
    "    if c == 2:\n",
    "        break\n",
    "    c += 1\n",
    "f.close()"
   ]
  },
  {
   "cell_type": "code",
   "execution_count": 44,
   "metadata": {
    "tags": []
   },
   "outputs": [
    {
     "output_type": "stream",
     "name": "stdout",
     "text": "0, Hello\n1, See you later\n2, Have a good day\nWall time: 2.9 ms\n"
    }
   ],
   "source": [
    "%%time \n",
    "f = open('some.txt')\n",
    "c = 0\n",
    "for I in f:\n",
    "    print(I,end='')\n",
    "    if c == 2:\n",
    "        break\n",
    "    c += 1\n",
    "f.close()"
   ]
  },
  {
   "cell_type": "code",
   "execution_count": 45,
   "metadata": {
    "tags": []
   },
   "outputs": [
    {
     "output_type": "stream",
     "name": "stdout",
     "text": "0, Hello\n1, See you later\n2, Have a good day\nWall time: 2.09 ms\n"
    }
   ],
   "source": [
    "%%time \n",
    "with open('some.txt', 'r')as f:\n",
    "    for c, I in enumerate(f):\n",
    "        print(I, end='')\n",
    "        if c==2:\n",
    "            break"
   ]
  },
  {
   "cell_type": "code",
   "execution_count": 47,
   "metadata": {
    "tags": []
   },
   "outputs": [
    {
     "output_type": "stream",
     "name": "stdout",
     "text": "0, Hello\n1, See you later\n2, Have a good day\n\nWall time: 1e+03 µs\n"
    }
   ],
   "source": [
    "%%time \n",
    "f = open('some.txt')\n",
    "lines = ''\n",
    "for i in range(3):\n",
    "    lines += f.readline()\n",
    "print(lines)\n",
    "f.close()"
   ]
  },
  {
   "cell_type": "code",
   "execution_count": 4,
   "metadata": {},
   "outputs": [],
   "source": [
    "def gen_prime(x=2):\n",
    "    '''素数を返すジェネレータ関数(1)愚直な方法'''\n",
    "    while True:\n",
    "        for i in range(2, x):\n",
    "            if x % i == 0:\n",
    "                break\n",
    "            else:\n",
    "                yield x\n",
    "            x += 1"
   ]
  },
  {
   "cell_type": "code",
   "execution_count": 49,
   "metadata": {},
   "outputs": [],
   "source": [
    "import math\n",
    "def gen_prime1(x=2):\n",
    "    '''素数を返すジェネレータ関数(2)sqrt(x)以下だけ調べる方法'''\n",
    "    while Ture:\n",
    "        for i in range(2, int(math.sqrt(x))+1):\n",
    "            if x % i == 0:\n",
    "                break\n",
    "        else:\n",
    "            yield x\n",
    "        x += 1"
   ]
  },
  {
   "cell_type": "code",
   "execution_count": null,
   "metadata": {},
   "outputs": [],
   "source": [
    "i = gen_prime()\n",
    "for x in range(10):\n",
    "    print(next(i), end=\" \")\n",
    "print(\"\")"
   ]
  },
  {
   "cell_type": "code",
   "execution_count": 1,
   "metadata": {},
   "outputs": [
    {
     "output_type": "error",
     "ename": "NameError",
     "evalue": "name 'gen_prime' is not defined",
     "traceback": [
      "\u001b[1;31m---------------------------------------------------------------------------\u001b[0m",
      "\u001b[1;31mNameError\u001b[0m                                 Traceback (most recent call last)",
      "\u001b[1;32m<timed exec>\u001b[0m in \u001b[0;36m<module>\u001b[1;34m\u001b[0m\n",
      "\u001b[1;31mNameError\u001b[0m: name 'gen_prime' is not defined"
     ]
    }
   ],
   "source": [
    "%%time\n",
    "# (1)愚直な方法\n",
    "i = gen_prime(100000)\n",
    "for c in range(10):\n",
    "    print(next(i), end=\" \")\n",
    "print(\"\")"
   ]
  },
  {
   "cell_type": "code",
   "execution_count": 1,
   "metadata": {},
   "outputs": [
    {
     "output_type": "error",
     "ename": "NameError",
     "evalue": "name 'gen_prime1' is not defined",
     "traceback": [
      "\u001b[1;31m---------------------------------------------------------------------------\u001b[0m",
      "\u001b[1;31mNameError\u001b[0m                                 Traceback (most recent call last)",
      "\u001b[1;32m<timed exec>\u001b[0m in \u001b[0;36m<module>\u001b[1;34m\u001b[0m\n",
      "\u001b[1;31mNameError\u001b[0m: name 'gen_prime1' is not defined"
     ]
    }
   ],
   "source": [
    "%%time\n",
    "# (2)sqrt(x) 以下だけ調べる方法\n",
    "i = gen_prime1(100000)\n",
    "for c in range(10):\n",
    "    print(next(i), end=\" \")\n",
    "print(\"\")"
   ]
  }
 ]
}